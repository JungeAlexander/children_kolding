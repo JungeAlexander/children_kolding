{
 "cells": [
  {
   "cell_type": "markdown",
   "metadata": {},
   "source": [
    "# Analysis of children's health data from Kolding"
   ]
  },
  {
   "cell_type": "code",
   "execution_count": 1,
   "metadata": {
    "collapsed": false
   },
   "outputs": [],
   "source": [
    "import matplotlib\n",
    "import matplotlib.pyplot as plt\n",
    "import pandas\n",
    "import seaborn\n",
    "import xml.etree.ElementTree as ET"
   ]
  },
  {
   "cell_type": "code",
   "execution_count": 2,
   "metadata": {
    "collapsed": false
   },
   "outputs": [],
   "source": [
    "%matplotlib inline"
   ]
  },
  {
   "cell_type": "markdown",
   "metadata": {},
   "source": [
    "## Load data into a pandas DataFrame"
   ]
  },
  {
   "cell_type": "code",
   "execution_count": 3,
   "metadata": {
    "collapsed": false
   },
   "outputs": [],
   "source": [
    "boern_xml = 'Børn.xml'\n",
    "with open(boern_xml) as fin:\n",
    "    tree = ET.parse(fin)\n",
    "    root = tree.getroot()\n",
    "    child_data = []\n",
    "    for child in root:\n",
    "        #print(child.tag, child.attrib)\n",
    "        child_attrib_list = [0] * 7\n",
    "        for i, child_attrib in enumerate(child):\n",
    "            #print(child_attrib.tag, child_attrib.text)\n",
    "            child_attrib_list[i] = child_attrib.text\n",
    "        child_data.append(child_attrib_list)\n",
    "\n",
    "col_names = ['Child', 'Year', 'Gender', 'District', 'Weight', 'Height', 'Head Circumference']\n",
    "child_df = pandas.DataFrame(child_data, columns=col_names)"
   ]
  },
  {
   "cell_type": "code",
   "execution_count": 4,
   "metadata": {
    "collapsed": false
   },
   "outputs": [],
   "source": [
    "numeric_cols = ['Child', 'Year', 'Weight', 'Height', 'Head Circumference']\n",
    "child_df[[*numeric_cols]] = child_df[[*numeric_cols]].apply(pandas.to_numeric)"
   ]
  },
  {
   "cell_type": "code",
   "execution_count": 5,
   "metadata": {
    "collapsed": false
   },
   "outputs": [
    {
     "name": "stdout",
     "output_type": "stream",
     "text": [
      "Read 116242 entries for 26125 children.\n"
     ]
    }
   ],
   "source": [
    "print('Read {:d} entries for {:d} children.'.format(len(child_df), len(child_df['Child'].unique())))"
   ]
  },
  {
   "cell_type": "markdown",
   "metadata": {},
   "source": [
    "## Calculate children's age at each measurment\n",
    "\n",
    "Note that first measurment for each child is taken at birth (age 0).\n",
    "As a further data cleaning step, keep only the measurement with the largest height for each child in case multiple\n",
    "measurements have been recorded within the same year."
   ]
  },
  {
   "cell_type": "code",
   "execution_count": 6,
   "metadata": {
    "collapsed": false
   },
   "outputs": [],
   "source": [
    "child_grouped = child_df.groupby('Child')\n",
    "\n",
    "child_age_dfs = []\n",
    "for child_id, child_data in child_grouped:\n",
    "    #print(child_id)\n",
    "    min_year = child_data['Year'].min()\n",
    "    child_data = pandas.concat([child_data, child_data['Year'] - min_year], axis=1)\n",
    "    child_data.columns = col_names + ['Age']\n",
    "    #print(child_data)\n",
    "\n",
    "    child_data_cleaned_list = []\n",
    "    for a, d in child_data.groupby('Age'):\n",
    "        if len(d.shape) > 1:\n",
    "            curr_cleaned = d.loc[d['Height'].argmax(), ]\n",
    "        else:\n",
    "            curr_cleaned = d\n",
    "        child_data_cleaned_list.append(curr_cleaned)\n",
    "    child_data_cleaned = pandas.concat(child_data_cleaned_list, axis=1)\n",
    "    child_age_dfs.append(child_data_cleaned.transpose())"
   ]
  },
  {
   "cell_type": "code",
   "execution_count": 7,
   "metadata": {
    "collapsed": false
   },
   "outputs": [],
   "source": [
    "child_age_df = pandas.concat(child_age_dfs)"
   ]
  },
  {
   "cell_type": "code",
   "execution_count": 8,
   "metadata": {
    "collapsed": false
   },
   "outputs": [
    {
     "name": "stdout",
     "output_type": "stream",
     "text": [
      "52701 entries for 26125 children left.\n"
     ]
    }
   ],
   "source": [
    "print('{:d} entries for {:d} children left.'.format(len(child_age_df), len(child_age_df['Child'].unique())))"
   ]
  },
  {
   "cell_type": "markdown",
   "metadata": {},
   "source": [
    "### Example: Number of measurements per age group\n",
    "\n",
    "All measurements for children younger than 2 have been removed in plot below."
   ]
  },
  {
   "cell_type": "code",
   "execution_count": 9,
   "metadata": {
    "collapsed": false
   },
   "outputs": [
    {
     "data": {
      "text/plain": [
       "<matplotlib.axes._subplots.AxesSubplot at 0x7f18a8ad7f60>"
      ]
     },
     "execution_count": 9,
     "metadata": {},
     "output_type": "execute_result"
    },
    {
     "data": {
      "image/png": "[encoded data removed]",
      "text/plain": [
       "<matplotlib.figure.Figure at 0x7f18a993c860>"
      ]
     },
     "metadata": {},
     "output_type": "display_data"
    }
   ],
   "source": [
    "age_vec = child_age_df['Age']\n",
    "age_vec_gt_1 = age_vec[age_vec > 1]\n",
    "seaborn.distplot(age_vec_gt_1, kde=False)"
   ]
  },
  {
   "cell_type": "markdown",
   "metadata": {},
   "source": [
    "## Export cleaned data to CSV"
   ]
  },
  {
   "cell_type": "code",
   "execution_count": 10,
   "metadata": {
    "collapsed": true
   },
   "outputs": [],
   "source": [
    "child_age_df.to_csv('children.csv')"
   ]
  },
  {
   "cell_type": "markdown",
   "metadata": {},
   "source": [
    "## Add BMI column"
   ]
  },
  {
   "cell_type": "code",
   "execution_count": 11,
   "metadata": {
    "collapsed": false
   },
   "outputs": [],
   "source": [
    "child_age_df['BMI'] = child_age_df['Weight'] / ((child_age_df['Height']/100)**2)"
   ]
  },
  {
   "cell_type": "code",
   "execution_count": 12,
   "metadata": {
    "collapsed": false
   },
   "outputs": [
    {
     "data": {
      "text/html": [
       "<div>\n",
       "<table border=\"1\" class=\"dataframe\">\n",
       "  <thead>\n",
       "    <tr style=\"text-align: right;\">\n",
       "      <th></th>\n",
       "      <th>Child</th>\n",
       "      <th>Year</th>\n",
       "      <th>Gender</th>\n",
       "      <th>District</th>\n",
       "      <th>Weight</th>\n",
       "      <th>Height</th>\n",
       "      <th>Head Circumference</th>\n",
       "      <th>Age</th>\n",
       "      <th>BMI</th>\n",
       "    </tr>\n",
       "  </thead>\n",
       "  <tbody>\n",
       "    <tr>\n",
       "      <th>111117</th>\n",
       "      <td>1</td>\n",
       "      <td>2013</td>\n",
       "      <td>Hankøn</td>\n",
       "      <td>Nordvest</td>\n",
       "      <td>10</td>\n",
       "      <td>69</td>\n",
       "      <td>45</td>\n",
       "      <td>0</td>\n",
       "      <td>21.004</td>\n",
       "    </tr>\n",
       "    <tr>\n",
       "      <th>55806</th>\n",
       "      <td>2</td>\n",
       "      <td>2008</td>\n",
       "      <td>Hankøn</td>\n",
       "      <td>Sydvest</td>\n",
       "      <td>22.6</td>\n",
       "      <td>122.5</td>\n",
       "      <td>0</td>\n",
       "      <td>0</td>\n",
       "      <td>15.0604</td>\n",
       "    </tr>\n",
       "    <tr>\n",
       "      <th>65306</th>\n",
       "      <td>2</td>\n",
       "      <td>2009</td>\n",
       "      <td>Hankøn</td>\n",
       "      <td>Sydvest</td>\n",
       "      <td>27.7</td>\n",
       "      <td>130.5</td>\n",
       "      <td>0</td>\n",
       "      <td>1</td>\n",
       "      <td>16.2652</td>\n",
       "    </tr>\n",
       "    <tr>\n",
       "      <th>101794</th>\n",
       "      <td>2</td>\n",
       "      <td>2012</td>\n",
       "      <td>Hankøn</td>\n",
       "      <td>Sydvest</td>\n",
       "      <td>40.4</td>\n",
       "      <td>146.5</td>\n",
       "      <td>0</td>\n",
       "      <td>4</td>\n",
       "      <td>18.8237</td>\n",
       "    </tr>\n",
       "    <tr>\n",
       "      <th>103855</th>\n",
       "      <td>3</td>\n",
       "      <td>2012</td>\n",
       "      <td>Hankøn</td>\n",
       "      <td>Ikke angivet</td>\n",
       "      <td>19.7</td>\n",
       "      <td>114</td>\n",
       "      <td>0</td>\n",
       "      <td>0</td>\n",
       "      <td>15.1585</td>\n",
       "    </tr>\n",
       "  </tbody>\n",
       "</table>\n",
       "</div>"
      ],
      "text/plain": [
       "       Child  Year  Gender      District Weight Height Head Circumference Age  \\\n",
       "111117     1  2013  Hankøn      Nordvest     10     69                 45   0   \n",
       "55806      2  2008  Hankøn       Sydvest   22.6  122.5                  0   0   \n",
       "65306      2  2009  Hankøn       Sydvest   27.7  130.5                  0   1   \n",
       "101794     2  2012  Hankøn       Sydvest   40.4  146.5                  0   4   \n",
       "103855     3  2012  Hankøn  Ikke angivet   19.7    114                  0   0   \n",
       "\n",
       "            BMI  \n",
       "111117   21.004  \n",
       "55806   15.0604  \n",
       "65306   16.2652  \n",
       "101794  18.8237  \n",
       "103855  15.1585  "
      ]
     },
     "execution_count": 12,
     "metadata": {},
     "output_type": "execute_result"
    }
   ],
   "source": [
    "child_age_df.head()"
   ]
  },
  {
   "cell_type": "markdown",
   "metadata": {},
   "source": [
    "## Plot BMI across districts and genders"
   ]
  },
  {
   "cell_type": "code",
   "execution_count": 13,
   "metadata": {
    "collapsed": false
   },
   "outputs": [],
   "source": [
    "child_age_df.replace('Hankøn', 'male', inplace=True)\n",
    "child_age_df.replace('Hunkøn', 'female', inplace=True)"
   ]
  },
  {
   "cell_type": "code",
   "execution_count": 14,
   "metadata": {
    "collapsed": false
   },
   "outputs": [
    {
     "name": "stdout",
     "output_type": "stream",
     "text": [
      "52586 out of 52701 rows had sane district names\n"
     ]
    }
   ],
   "source": [
    "allowed_districts = set(['Nordvest', 'Sydvest', 'Ikke angivet', 'Syd', 'Nord'])\n",
    "sane_district_rows = child_age_df['District'].isin(allowed_districts)\n",
    "print('{:d} out of {:d} rows had sane district names'.format(sum(sane_district_rows), len(child_age_df)))\n",
    "child_age_with_district_df = child_age_df.loc[sane_district_rows,]"
   ]
  },
  {
   "cell_type": "code",
   "execution_count": 15,
   "metadata": {
    "collapsed": false
   },
   "outputs": [
    {
     "name": "stdout",
     "output_type": "stream",
     "text": [
      "36023 out of 52586 rows had known district value\n"
     ]
    }
   ],
   "source": [
    "known_districts = set(['Nordvest', 'Sydvest', 'Syd', 'Nord'])\n",
    "known_district_rows = child_age_with_district_df['District'].isin(known_districts)\n",
    "print('{:d} out of {:d} rows had known district value'.format(sum(known_district_rows),\n",
    "                                                              len(child_age_with_district_df)))\n",
    "child_age_with_district_df = child_age_with_district_df.loc[known_district_rows,]"
   ]
  },
  {
   "cell_type": "code",
   "execution_count": 16,
   "metadata": {
    "collapsed": false
   },
   "outputs": [
    {
     "name": "stdout",
     "output_type": "stream",
     "text": [
      "384 rows had too high BMI values (>30).\n"
     ]
    }
   ],
   "source": [
    "max_bmi_allowed = 30\n",
    "sane_bmi_rows = child_age_with_district_df['BMI'] <= max_bmi_allowed\n",
    "print('{:d} rows had too high BMI values (>{:d}).'.format(len(child_age_with_district_df) - sum(sane_bmi_rows),\n",
    "                                                     max_bmi_allowed))\n",
    "child_age_with_district_bmi_df = child_age_with_district_df.loc[sane_bmi_rows,]"
   ]
  },
  {
   "cell_type": "code",
   "execution_count": 17,
   "metadata": {
    "collapsed": false
   },
   "outputs": [
    {
     "name": "stdout",
     "output_type": "stream",
     "text": [
      "388 rows had too low BMI values (<10).\n"
     ]
    }
   ],
   "source": [
    "min_bmi_allowed = 10\n",
    "sane_bmi_rows = child_age_with_district_bmi_df['BMI'] >= min_bmi_allowed\n",
    "print('{:d} rows had too low BMI values (<{:d}).'.format(len(child_age_with_district_bmi_df) - sum(sane_bmi_rows),\n",
    "                                                     min_bmi_allowed))\n",
    "child_age_with_district_bmi_df = child_age_with_district_bmi_df.loc[sane_bmi_rows,]"
   ]
  },
  {
   "cell_type": "code",
   "execution_count": 18,
   "metadata": {
    "collapsed": false
   },
   "outputs": [
    {
     "data": {
      "image/png": "[encoded data removed]",
      "text/plain": [
       "<matplotlib.figure.Figure at 0x7f18a85f7748>"
      ]
     },
     "metadata": {},
     "output_type": "display_data"
    }
   ],
   "source": [
    "ax = seaborn.boxplot(x=\"District\", y=\"BMI\", hue='Gender', data=child_age_with_district_bmi_df)"
   ]
  },
  {
   "cell_type": "code",
   "execution_count": null,
   "metadata": {
    "collapsed": true
   },
   "outputs": [],
   "source": []
  }
 ],
 "metadata": {
  "kernelspec": {
   "display_name": "Python 3",
   "language": "python",
   "name": "python3"
  },
  "language_info": {
   "codemirror_mode": {
    "name": "ipython",
    "version": 3
   },
   "file_extension": ".py",
   "mimetype": "text/x-python",
   "name": "python",
   "nbconvert_exporter": "python",
   "pygments_lexer": "ipython3",
   "version": "3.5.2"
  }
 },
 "nbformat": 4,
 "nbformat_minor": 0
}
