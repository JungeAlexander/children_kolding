{
 "cells": [
  {
   "cell_type": "markdown",
   "metadata": {},
   "source": [
    "# Analysis of children's health data from Kolding"
   ]
  },
  {
   "cell_type": "code",
   "execution_count": 1,
   "metadata": {
    "collapsed": false
   },
   "outputs": [],
   "source": [
    "import gzip\n",
    "import matplotlib\n",
    "import matplotlib.pyplot as plt\n",
    "import pandas\n",
    "import seaborn\n",
    "import xml.etree.ElementTree as ET"
   ]
  },
  {
   "cell_type": "code",
   "execution_count": 2,
   "metadata": {
    "collapsed": false
   },
   "outputs": [],
   "source": [
    "%matplotlib inline"
   ]
  },
  {
   "cell_type": "markdown",
   "metadata": {},
   "source": [
    "## Load data into a pandas DataFrame"
   ]
  },
  {
   "cell_type": "code",
   "execution_count": 3,
   "metadata": {
    "collapsed": false
   },
   "outputs": [],
   "source": [
    "boern_xml = 'Boern.xml.gz'\n",
    "with gzip.open(boern_xml) as fin:\n",
    "    tree = ET.parse(fin)\n",
    "    root = tree.getroot()\n",
    "    child_data = []\n",
    "    for child in root:\n",
    "        #print(child.tag, child.attrib)\n",
    "        child_attrib_list = [0] * 7\n",
    "        for i, child_attrib in enumerate(child):\n",
    "            #print(child_attrib.tag, child_attrib.text)\n",
    "            child_attrib_list[i] = child_attrib.text\n",
    "        child_data.append(child_attrib_list)\n",
    "\n",
    "col_names = ['Child', 'Year', 'Gender', 'District', 'Weight', 'Height', 'Head Circumference']\n",
    "child_df = pandas.DataFrame(child_data, columns=col_names)"
   ]
  },
  {
   "cell_type": "code",
   "execution_count": 4,
   "metadata": {
    "collapsed": false
   },
   "outputs": [],
   "source": [
    "numeric_cols = ['Child', 'Year', 'Weight', 'Height', 'Head Circumference']\n",
    "child_df[[*numeric_cols]] = child_df[[*numeric_cols]].apply(pandas.to_numeric)"
   ]
  },
  {
   "cell_type": "code",
   "execution_count": 5,
   "metadata": {
    "collapsed": false
   },
   "outputs": [
    {
     "name": "stdout",
     "output_type": "stream",
     "text": [
      "Read 116242 entries for 26125 children.\n"
     ]
    }
   ],
   "source": [
    "print('Read {:d} entries for {:d} children.'.format(len(child_df), len(child_df['Child'].unique())))"
   ]
  },
  {
   "cell_type": "markdown",
   "metadata": {},
   "source": [
    "## Calculate children's age at each measurment\n",
    "\n",
    "Note that first measurment for each child is taken at birth (age 0).\n",
    "As a further data cleaning step, keep only the measurement with the largest height for each child in case multiple\n",
    "measurements have been recorded within the same year."
   ]
  },
  {
   "cell_type": "code",
   "execution_count": 6,
   "metadata": {
    "collapsed": false
   },
   "outputs": [],
   "source": [
    "child_grouped = child_df.groupby('Child')\n",
    "\n",
    "child_age_dfs = []\n",
    "for child_id, child_data in child_grouped:\n",
    "    #print(child_id)\n",
    "    min_year = child_data['Year'].min()\n",
    "    child_data = pandas.concat([child_data, child_data['Year'] - min_year], axis=1)\n",
    "    child_data.columns = col_names + ['Age']\n",
    "    #print(child_data)\n",
    "\n",
    "    child_data_cleaned_list = []\n",
    "    for a, d in child_data.groupby('Age'):\n",
    "        if len(d.shape) > 1:\n",
    "            curr_cleaned = d.loc[d['Height'].argmax(), ]\n",
    "        else:\n",
    "            curr_cleaned = d\n",
    "        child_data_cleaned_list.append(curr_cleaned)\n",
    "    child_data_cleaned = pandas.concat(child_data_cleaned_list, axis=1)\n",
    "    child_age_dfs.append(child_data_cleaned.transpose())"
   ]
  },
  {
   "cell_type": "code",
   "execution_count": 7,
   "metadata": {
    "collapsed": false
   },
   "outputs": [],
   "source": [
    "child_age_df = pandas.concat(child_age_dfs)"
   ]
  },
  {
   "cell_type": "code",
   "execution_count": 8,
   "metadata": {
    "collapsed": false
   },
   "outputs": [
    {
     "name": "stdout",
     "output_type": "stream",
     "text": [
      "52701 entries for 26125 children left.\n"
     ]
    }
   ],
   "source": [
    "print('{:d} entries for {:d} children left.'.format(len(child_age_df), len(child_age_df['Child'].unique())))"
   ]
  },
  {
   "cell_type": "markdown",
   "metadata": {},
   "source": [
    "### Example: Number of measurements per age group\n",
    "\n",
    "All measurements for children younger than 2 have been removed in plot below."
   ]
  },
  {
   "cell_type": "code",
   "execution_count": 9,
   "metadata": {
    "collapsed": false
   },
   "outputs": [
    {
     "data": {
      "text/plain": [
       "<matplotlib.axes._subplots.AxesSubplot at 0x7f068eee20f0>"
      ]
     },
     "execution_count": 9,
     "metadata": {},
     "output_type": "execute_result"
    },
    {
     "data": {
      "image/png": "[encoded data removed]",
      "text/plain": [
       "<matplotlib.figure.Figure at 0x7f068efda5c0>"
      ]
     },
     "metadata": {},
     "output_type": "display_data"
    }
   ],
   "source": [
    "age_vec = child_age_df['Age']\n",
    "age_vec_gt_1 = age_vec[age_vec > 1]\n",
    "seaborn.distplot(age_vec_gt_1, kde=False)"
   ]
  },
  {
   "cell_type": "markdown",
   "metadata": {},
   "source": [
    "## Export cleaned data to CSV"
   ]
  },
  {
   "cell_type": "code",
   "execution_count": 10,
   "metadata": {
    "collapsed": true
   },
   "outputs": [],
   "source": [
    "child_age_df.to_csv('children.csv')"
   ]
  }
 ],
 "metadata": {
  "kernelspec": {
   "display_name": "Python 3",
   "language": "python",
   "name": "python3"
  },
  "language_info": {
   "codemirror_mode": {
    "name": "ipython",
    "version": 3
   },
   "file_extension": ".py",
   "mimetype": "text/x-python",
   "name": "python",
   "nbconvert_exporter": "python",
   "pygments_lexer": "ipython3",
   "version": "3.5.2"
  }
 },
 "nbformat": 4,
 "nbformat_minor": 0
}
