{
 "cells": [
  {
   "cell_type": "code",
   "execution_count": 1,
   "metadata": {
    "collapsed": true
   },
   "outputs": [],
   "source": [
    "import gzip\n",
    "import pandas\n",
    "import xml.etree.ElementTree as ET"
   ]
  },
  {
   "cell_type": "code",
   "execution_count": 2,
   "metadata": {
    "collapsed": false
   },
   "outputs": [],
   "source": [
    "boern_xml = 'Boern.xml.gz'\n",
    "with gzip.open(boern_xml) as fin:\n",
    "    tree = ET.parse(fin)\n",
    "    root = tree.getroot()\n",
    "    child_data = []\n",
    "    for child in root:\n",
    "        #print(child.tag, child.attrib)\n",
    "        child_attrib_list = [0] * 7\n",
    "        for i, child_attrib in enumerate(child):\n",
    "            #print(child_attrib.tag, child_attrib.text)\n",
    "            child_attrib_list[i] = child_attrib.text\n",
    "        child_data.append(child_attrib_list)\n",
    "\n",
    "child_df = pandas.DataFrame(child_data,\n",
    "                            columns=['Child', 'Year', 'Gender', 'District',\n",
    "                                     'Weight', 'Height', 'Head Circumference'])"
   ]
  },
  {
   "cell_type": "code",
   "execution_count": 3,
   "metadata": {
    "collapsed": false
   },
   "outputs": [
    {
     "name": "stdout",
     "output_type": "stream",
     "text": [
      "Read 116242 entries for 26125 children.\n"
     ]
    }
   ],
   "source": [
    "print('Read {:d} entries for {:d} children.'.format(len(child_df), len(child_df['Child'].unique())))"
   ]
  }
 ],
 "metadata": {
  "kernelspec": {
   "display_name": "Python 3",
   "language": "python",
   "name": "python3"
  },
  "language_info": {
   "codemirror_mode": {
    "name": "ipython",
    "version": 3
   },
   "file_extension": ".py",
   "mimetype": "text/x-python",
   "name": "python",
   "nbconvert_exporter": "python",
   "pygments_lexer": "ipython3",
   "version": "3.5.2"
  }
 },
 "nbformat": 4,
 "nbformat_minor": 0
}
