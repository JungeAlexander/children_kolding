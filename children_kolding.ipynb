{
 "cells": [
  {
   "cell_type": "markdown",
   "metadata": {},
   "source": [
    "# Analysis of children's health data from Kolding"
   ]
  },
  {
   "cell_type": "code",
   "execution_count": 1,
   "metadata": {
    "collapsed": false
   },
   "outputs": [],
   "source": [
    "import gzip\n",
    "import matplotlib\n",
    "import pandas\n",
    "import seaborn\n",
    "import xml.etree.ElementTree as ET"
   ]
  },
  {
   "cell_type": "code",
   "execution_count": 2,
   "metadata": {
    "collapsed": false
   },
   "outputs": [],
   "source": [
    "%matplotlib inline"
   ]
  },
  {
   "cell_type": "markdown",
   "metadata": {},
   "source": [
    "## Load data into a pandas DataFrame"
   ]
  },
  {
   "cell_type": "code",
   "execution_count": 3,
   "metadata": {
    "collapsed": false
   },
   "outputs": [],
   "source": [
    "boern_xml = 'Boern.xml.gz'\n",
    "with gzip.open(boern_xml) as fin:\n",
    "    tree = ET.parse(fin)\n",
    "    root = tree.getroot()\n",
    "    child_data = []\n",
    "    for child in root:\n",
    "        #print(child.tag, child.attrib)\n",
    "        child_attrib_list = [0] * 7\n",
    "        for i, child_attrib in enumerate(child):\n",
    "            #print(child_attrib.tag, child_attrib.text)\n",
    "            child_attrib_list[i] = child_attrib.text\n",
    "        child_data.append(child_attrib_list)\n",
    "\n",
    "col_names = ['Child', 'Year', 'Gender', 'District', 'Weight', 'Height', 'Head Circumference']\n",
    "child_df = pandas.DataFrame(child_data, columns=col_names)"
   ]
  },
  {
   "cell_type": "code",
   "execution_count": 4,
   "metadata": {
    "collapsed": false
   },
   "outputs": [],
   "source": [
    "numeric_cols = ['Child', 'Year', 'Weight', 'Height', 'Head Circumference']\n",
    "child_df[[*numeric_cols]] = child_df[[*numeric_cols]].apply(pandas.to_numeric)"
   ]
  },
  {
   "cell_type": "code",
   "execution_count": null,
   "metadata": {
    "collapsed": false
   },
   "outputs": [
    {
     "name": "stdout",
     "output_type": "stream",
     "text": [
      "Read 116242 entries for 26125 children.\n"
     ]
    }
   ],
   "source": [
    "print('Read {:d} entries for {:d} children.'.format(len(child_df), len(child_df['Child'].unique())))"
   ]
  },
  {
   "cell_type": "markdown",
   "metadata": {},
   "source": [
    "## Calculate children's age at each measurment\n",
    "\n",
    "Note that first measurment for each child is taken at birth (age 0)."
   ]
  },
  {
   "cell_type": "code",
   "execution_count": null,
   "metadata": {
    "collapsed": false
   },
   "outputs": [],
   "source": [
    "child_grouped = child_df.groupby('Child')\n",
    "\n",
    "child_age_dfs = []\n",
    "for child_id, child_data in child_grouped:\n",
    "    #print(child_id)\n",
    "    min_year = child_data['Year'].min()\n",
    "    child_data = pandas.concat([child_data, child_data['Year'] - min_year], axis=1)\n",
    "    child_data.columns = col_names + ['Age']\n",
    "    #print(child_data)\n",
    "    child_age_dfs.append(child_data)"
   ]
  },
  {
   "cell_type": "code",
   "execution_count": null,
   "metadata": {
    "collapsed": false
   },
   "outputs": [],
   "source": [
    "child_data.groupby('Age')"
   ]
  },
  {
   "cell_type": "code",
   "execution_count": null,
   "metadata": {
    "collapsed": true
   },
   "outputs": [],
   "source": [
    "child_age_df = pandas.concat(child_age_dfs)"
   ]
  },
  {
   "cell_type": "code",
   "execution_count": null,
   "metadata": {
    "collapsed": false
   },
   "outputs": [],
   "source": [
    "age_vec = child_age_df['Age']\n",
    "age_vec_gt_1 = age_vec[age_vec > 1]\n",
    "seaborn.distplot(age_vec_gt_1, kde=False)"
   ]
  }
 ],
 "metadata": {
  "kernelspec": {
   "display_name": "Python 3",
   "language": "python",
   "name": "python3"
  },
  "language_info": {
   "codemirror_mode": {
    "name": "ipython",
    "version": 3
   },
   "file_extension": ".py",
   "mimetype": "text/x-python",
   "name": "python",
   "nbconvert_exporter": "python",
   "pygments_lexer": "ipython3",
   "version": "3.5.2"
  }
 },
 "nbformat": 4,
 "nbformat_minor": 0
}
